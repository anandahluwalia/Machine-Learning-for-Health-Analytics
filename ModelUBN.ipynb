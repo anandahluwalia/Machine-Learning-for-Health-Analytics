{
 "cells": [
  {
   "cell_type": "code",
   "execution_count": 1,
   "id": "84cb3d29",
   "metadata": {},
   "outputs": [],
   "source": [
    "import pandas as pd\n",
    "from sklearn.model_selection import train_test_split\n",
    "from sklearn.ensemble import RandomForestClassifier\n",
    "from sklearn.preprocessing import StandardScaler\n",
    "from sklearn.neural_network import MLPClassifier\n",
    "from sklearn.metrics import accuracy_score\n",
    "from sklearn.svm import SVC\n",
    "from sklearn.tree import DecisionTreeClassifier\n",
    "from sklearn.linear_model import LogisticRegression\n",
    "from sklearn.neighbors import KNeighborsClassifier\n",
    "from sklearn.ensemble import GradientBoostingClassifier\n",
    "from sklearn.metrics import classification_report, roc_auc_score, precision_score, recall_score, f1_score, matthews_corrcoef\n",
    "import matplotlib.pyplot as plt\n",
    "import numpy as np\n",
    "from tabulate import tabulate"
   ]
  },
  {
   "cell_type": "code",
   "execution_count": 2,
   "id": "07ed9403",
   "metadata": {},
   "outputs": [],
   "source": [
    "df = pd.read_csv('Cleaned.csv')"
   ]
  },
  {
   "cell_type": "code",
   "execution_count": 3,
   "id": "e8cb7ae3",
   "metadata": {},
   "outputs": [],
   "source": [
    "X = df[['Sex','IFCCA1', 'OmDiast', 'OmSyst', 'HDLChol', 'Cholest', 'BMI']]\n",
    "y = df['Diabetes']\n",
    "\n",
    "X = pd.get_dummies(X)"
   ]
  },
  {
   "cell_type": "code",
   "execution_count": 4,
   "id": "5635a83c",
   "metadata": {},
   "outputs": [],
   "source": [
    "X_train, X_test, y_train, y_test = train_test_split(X, y, test_size=0.25, random_state=42)"
   ]
  },
  {
   "cell_type": "code",
   "execution_count": null,
   "id": "0f78d125",
   "metadata": {},
   "outputs": [],
   "source": []
  },
  {
   "cell_type": "code",
   "execution_count": 5,
   "id": "91501935",
   "metadata": {},
   "outputs": [
    {
     "name": "stdout",
     "output_type": "stream",
     "text": [
      "Accuracy: 0.9097091262357849\n",
      "Matthews Correlation Coefficient (MCC): 0.17058984982581046\n",
      "ROC-AUC Score: 0.5471452224444471\n",
      "Precision: 0.38588235294117645\n",
      "Recall: 0.11058664868509778\n",
      "F1 Score: 0.1719077568134172\n",
      "\n",
      "Classification Report:\n",
      "              precision    recall  f1-score   support\n",
      "\n",
      "           1       0.39      0.11      0.17      1483\n",
      "           2       0.92      0.98      0.95     16016\n",
      "\n",
      "    accuracy                           0.91     17499\n",
      "   macro avg       0.65      0.55      0.56     17499\n",
      "weighted avg       0.88      0.91      0.89     17499\n",
      "\n"
     ]
    }
   ],
   "source": [
    "clf = RandomForestClassifier(n_estimators=100, random_state=42)\n",
    "\n",
    "# Train the model\n",
    "clf.fit(X_train, y_train)\n",
    "\n",
    "# Make predictions\n",
    "y_pred = clf.predict(X_test)\n",
    "y_pred_proba = clf.predict_proba(X_test)[:, 1]\n",
    "\n",
    "# Evaluate the model\n",
    "accuracyRF = accuracy_score(y_test, y_pred)\n",
    "mccRF = matthews_corrcoef(y_test, y_pred)\n",
    "roc_aucRF = roc_auc_score(y_test, y_pred)\n",
    "precisionRF = precision_score(y_test, y_pred)\n",
    "recallRF = recall_score(y_test, y_pred)\n",
    "f1RF = f1_score(y_test, y_pred)\n",
    "\n",
    "# Print evaluation metrics\n",
    "print(\"Accuracy:\", accuracyRF)\n",
    "print(\"Matthews Correlation Coefficient (MCC):\", mccRF)\n",
    "print(\"ROC-AUC Score:\", roc_aucRF)\n",
    "print(\"Precision:\", precisionRF)\n",
    "print(\"Recall:\", recallRF)\n",
    "print(\"F1 Score:\", f1RF)\n",
    "\n",
    "# Generate classification report\n",
    "print(\"\\nClassification Report:\")\n",
    "print(classification_report(y_test, y_pred))"
   ]
  },
  {
   "cell_type": "code",
   "execution_count": 6,
   "id": "2aa407e9",
   "metadata": {},
   "outputs": [
    {
     "name": "stdout",
     "output_type": "stream",
     "text": [
      "Accuracy: 0.9205\n",
      "Matthews Correlation Coefficient (MCC): 0.2317710716418805\n",
      "ROC-AUC Score: 0.5426167327811294\n",
      "Precision: 0.7074829931972789\n",
      "Recall: 0.08858603066439523\n",
      "F1 Score: 0.15745647236941712\n",
      "\n",
      "Classification Report:\n",
      "              precision    recall  f1-score   support\n",
      "\n",
      "           1       0.71      0.09      0.16      1174\n",
      "           2       0.92      1.00      0.96     12826\n",
      "\n",
      "    accuracy                           0.92     14000\n",
      "   macro avg       0.82      0.54      0.56     14000\n",
      "weighted avg       0.90      0.92      0.89     14000\n",
      "\n"
     ]
    }
   ],
   "source": [
    "scaler = StandardScaler()\n",
    "X_scaled = scaler.fit_transform(X)\n",
    "\n",
    "# Split the scaled data into training and testing sets\n",
    "X_train, X_test, y_train, y_test = train_test_split(X_scaled, y, test_size=0.2, random_state=42)\n",
    "\n",
    "# Initialize MLPClassifier (Neural Network)\n",
    "clf = MLPClassifier(hidden_layer_sizes=(100,), max_iter=100, random_state=42)\n",
    "\n",
    "# Train the model\n",
    "clf.fit(X_train, y_train)\n",
    "\n",
    "# Make predictions\n",
    "y_pred = clf.predict(X_test)\n",
    "\n",
    "# Compute predictions probabilities for ROC-AUC score\n",
    "y_pred_proba = clf.predict_proba(X_test)[:, 1]\n",
    "\n",
    "# Compute evaluation metrics\n",
    "accuracyNL = accuracy_score(y_test, y_pred)\n",
    "mccNL = matthews_corrcoef(y_test, y_pred)\n",
    "roc_aucNL = roc_auc_score(y_test, y_pred)\n",
    "precisionNL = precision_score(y_test, y_pred)\n",
    "recallNL = recall_score(y_test, y_pred)\n",
    "f1NL = f1_score(y_test, y_pred)\n",
    "\n",
    "# Print evaluation metrics\n",
    "print(\"Accuracy:\", accuracyNL)\n",
    "print(\"Matthews Correlation Coefficient (MCC):\", mccNL)\n",
    "print(\"ROC-AUC Score:\", roc_aucNL)\n",
    "print(\"Precision:\", precisionNL)\n",
    "print(\"Recall:\", recallNL)\n",
    "print(\"F1 Score:\", f1NL)\n",
    "\n",
    "# Generate classification report\n",
    "print(\"\\nClassification Report:\")\n",
    "print(classification_report(y_test, y_pred))"
   ]
  },
  {
   "cell_type": "code",
   "execution_count": 7,
   "id": "dbc6ed3d",
   "metadata": {},
   "outputs": [
    {
     "name": "stdout",
     "output_type": "stream",
     "text": [
      "Accuracy: 0.919\n",
      "Matthews Correlation Coefficient (MCC): 0.1765991195778155\n",
      "ROC-AUC Score: 0.5174226861908214\n",
      "Precision: 0.9761904761904762\n",
      "Recall: 0.03492333901192504\n",
      "F1 Score: 0.06743421052631579\n",
      "\n",
      "Classification Report:\n",
      "              precision    recall  f1-score   support\n",
      "\n",
      "           1       0.98      0.03      0.07      1174\n",
      "           2       0.92      1.00      0.96     12826\n",
      "\n",
      "    accuracy                           0.92     14000\n",
      "   macro avg       0.95      0.52      0.51     14000\n",
      "weighted avg       0.92      0.92      0.88     14000\n",
      "\n"
     ]
    }
   ],
   "source": [
    "clf = SVC(kernel='rbf', random_state=42)\n",
    "\n",
    "# Train the model\n",
    "clf.fit(X_train, y_train)\n",
    "\n",
    "# Make predictions\n",
    "y_pred = clf.predict(X_test)\n",
    "\n",
    "# Compute evaluation metrics\n",
    "accuracySVC = accuracy_score(y_test, y_pred)\n",
    "mccSVC = matthews_corrcoef(y_test, y_pred)\n",
    "roc_aucSVC = roc_auc_score(y_test, y_pred)\n",
    "precisionSVC = precision_score(y_test, y_pred)\n",
    "recallSVC = recall_score(y_test, y_pred)\n",
    "f1SVC = f1_score(y_test, y_pred)\n",
    "\n",
    "# Print evaluation metrics\n",
    "print(\"Accuracy:\", accuracySVC)\n",
    "print(\"Matthews Correlation Coefficient (MCC):\", mccSVC)\n",
    "print(\"ROC-AUC Score:\", roc_aucSVC)\n",
    "print(\"Precision:\", precisionSVC)\n",
    "print(\"Recall:\", recallSVC)\n",
    "print(\"F1 Score:\", f1SVC)\n",
    "\n",
    "# Generate classification report\n",
    "print(\"\\nClassification Report:\")\n",
    "print(classification_report(y_test, y_pred))"
   ]
  },
  {
   "cell_type": "code",
   "execution_count": 8,
   "id": "0ca5edcd",
   "metadata": {},
   "outputs": [
    {
     "name": "stdout",
     "output_type": "stream",
     "text": [
      "Accuracy: 0.8719285714285714\n",
      "Matthews Correlation Coefficient (MCC): 0.13549860263707889\n",
      "ROC-AUC Score: 0.5652457834929103\n",
      "Precision: 0.21369102682701202\n",
      "Recall: 0.196763202725724\n",
      "F1 Score: 0.2048780487804878\n",
      "\n",
      "Classification Report:\n",
      "              precision    recall  f1-score   support\n",
      "\n",
      "           1       0.21      0.20      0.20      1174\n",
      "           2       0.93      0.93      0.93     12826\n",
      "\n",
      "    accuracy                           0.87     14000\n",
      "   macro avg       0.57      0.57      0.57     14000\n",
      "weighted avg       0.87      0.87      0.87     14000\n",
      "\n"
     ]
    }
   ],
   "source": [
    "clf = DecisionTreeClassifier(random_state=42)\n",
    "\n",
    "# Train the model\n",
    "clf.fit(X_train, y_train)\n",
    "\n",
    "# Make predictions\n",
    "y_pred = clf.predict(X_test)\n",
    "\n",
    "# Compute evaluation metrics\n",
    "accuracyDT = accuracy_score(y_test, y_pred)\n",
    "mccDT = matthews_corrcoef(y_test, y_pred)\n",
    "roc_aucDT = roc_auc_score(y_test, y_pred)\n",
    "precisionDT = precision_score(y_test, y_pred)\n",
    "recallDT = recall_score(y_test, y_pred)\n",
    "f1DT = f1_score(y_test, y_pred)\n",
    "\n",
    "# Print evaluation metrics\n",
    "print(\"Accuracy:\", accuracyDT)\n",
    "print(\"Matthews Correlation Coefficient (MCC):\", mccDT)\n",
    "print(\"ROC-AUC Score:\", roc_aucDT)\n",
    "print(\"Precision:\", precisionDT)\n",
    "print(\"Recall:\", recallDT)\n",
    "print(\"F1 Score:\", f1DT)\n",
    "\n",
    "# Generate classification report\n",
    "print(\"\\nClassification Report:\")\n",
    "print(classification_report(y_test, y_pred))"
   ]
  },
  {
   "cell_type": "code",
   "execution_count": 9,
   "id": "0ac7ef3f",
   "metadata": {},
   "outputs": [
    {
     "name": "stdout",
     "output_type": "stream",
     "text": [
      "Accuracy: 0.8719285714285714\n",
      "Matthews Correlation Coefficient (MCC): 0.13549860263707889\n",
      "ROC-AUC Score: 0.5652457834929103\n",
      "Precision: 0.21369102682701202\n",
      "Recall: 0.196763202725724\n",
      "F1 Score: 0.2048780487804878\n",
      "\n",
      "Classification Report:\n",
      "              precision    recall  f1-score   support\n",
      "\n",
      "           1       0.46      0.02      0.03      1174\n",
      "           2       0.92      1.00      0.96     12826\n",
      "\n",
      "    accuracy                           0.92     14000\n",
      "   macro avg       0.69      0.51      0.49     14000\n",
      "weighted avg       0.88      0.92      0.88     14000\n",
      "\n"
     ]
    }
   ],
   "source": [
    "logistic_clf = LogisticRegression(random_state=42)\n",
    "\n",
    "# Train the model\n",
    "logistic_clf.fit(X_train, y_train)\n",
    "\n",
    "# Make predictions\n",
    "y_pred_logistic = logistic_clf.predict(X_test)\n",
    "\n",
    "# Compute evaluation metrics\n",
    "accuracyLR = accuracy_score(y_test, y_pred)\n",
    "mccLR = matthews_corrcoef(y_test, y_pred)\n",
    "roc_aucLR = roc_auc_score(y_test, y_pred)\n",
    "precisionLR = precision_score(y_test, y_pred)\n",
    "recallLR = recall_score(y_test, y_pred)\n",
    "f1LR = f1_score(y_test, y_pred)\n",
    "\n",
    "# Print evaluation metrics\n",
    "print(\"Accuracy:\", accuracyLR)\n",
    "print(\"Matthews Correlation Coefficient (MCC):\", mccLR)\n",
    "print(\"ROC-AUC Score:\", roc_aucLR)\n",
    "print(\"Precision:\", precisionLR)\n",
    "print(\"Recall:\", recallLR)\n",
    "print(\"F1 Score:\", f1LR)\n",
    "\n",
    "# Generate classification report\n",
    "print(\"\\nClassification Report:\")\n",
    "print(classification_report(y_test, y_pred_logistic))\n"
   ]
  },
  {
   "cell_type": "code",
   "execution_count": 10,
   "id": "e80eb07b",
   "metadata": {},
   "outputs": [
    {
     "name": "stdout",
     "output_type": "stream",
     "text": [
      "Accuracy: 0.8719285714285714\n",
      "Matthews Correlation Coefficient (MCC): 0.24135228500841588\n",
      "ROC-AUC Score: 0.5448241713023827\n",
      "Precision: 0.7266666666666667\n",
      "Recall: 0.09284497444633731\n",
      "F1 Score: 0.1646525679758308\n",
      "\n",
      "Classification Report:\n",
      "              precision    recall  f1-score   support\n",
      "\n",
      "           1       0.73      0.09      0.16      1174\n",
      "           2       0.92      1.00      0.96     12826\n",
      "\n",
      "    accuracy                           0.92     14000\n",
      "   macro avg       0.82      0.54      0.56     14000\n",
      "weighted avg       0.91      0.92      0.89     14000\n",
      "\n"
     ]
    }
   ],
   "source": [
    "# Initialize GradientBoostingClassifier\n",
    "gb_clf = GradientBoostingClassifier(random_state=42)\n",
    "\n",
    "# Train the model\n",
    "gb_clf.fit(X_train, y_train)\n",
    "\n",
    "# Make predictions\n",
    "y_pred_gb = gb_clf.predict(X_test)\n",
    "\n",
    "# Compute evaluation metrics\n",
    "accuracy_gb = accuracy_score(y_test, y_pred)\n",
    "mcc_gb = matthews_corrcoef(y_test, y_pred_gb)\n",
    "roc_auc_gb = roc_auc_score(y_test, y_pred_gb)\n",
    "precision_gb = precision_score(y_test, y_pred_gb)\n",
    "recall_gb = recall_score(y_test, y_pred_gb)\n",
    "f1_gb = f1_score(y_test, y_pred_gb)\n",
    "\n",
    "# Print evaluation metrics\n",
    "print(\"Accuracy:\", accuracy_gb)\n",
    "print(\"Matthews Correlation Coefficient (MCC):\", mcc_gb)\n",
    "print(\"ROC-AUC Score:\", roc_auc_gb)\n",
    "print(\"Precision:\", precision_gb)\n",
    "print(\"Recall:\", recall_gb)\n",
    "print(\"F1 Score:\", f1_gb)\n",
    "\n",
    "# Generate classification report\n",
    "print(\"\\nClassification Report:\")\n",
    "print(classification_report(y_test, y_pred_gb))\n"
   ]
  },
  {
   "cell_type": "code",
   "execution_count": 11,
   "id": "4e5c1e6f",
   "metadata": {},
   "outputs": [
    {
     "name": "stdout",
     "output_type": "stream",
     "text": [
      "Matthews Correlation Coefficient (MCC): 0.19090151362431335\n",
      "ROC-AUC Score: 0.5506736609065221\n",
      "Precision: 0.43548387096774194\n",
      "Recall: 0.11499148211243612\n",
      "F1 Score: 0.18194070080862534\n",
      "\n",
      "Classification Report:\n",
      "              precision    recall  f1-score   support\n",
      "\n",
      "           1       0.44      0.11      0.18      1174\n",
      "           2       0.92      0.99      0.95     12826\n",
      "\n",
      "    accuracy                           0.91     14000\n",
      "   macro avg       0.68      0.55      0.57     14000\n",
      "weighted avg       0.88      0.91      0.89     14000\n",
      "\n"
     ]
    }
   ],
   "source": [
    "\n",
    "\n",
    "# Initialize KNeighborsClassifier\n",
    "knn_clf = KNeighborsClassifier()\n",
    "\n",
    "# Train the model\n",
    "knn_clf.fit(X_train, y_train)\n",
    "\n",
    "# Make predictions\n",
    "y_pred_knn = knn_clf.predict(X_test)\n",
    "\n",
    "# Compute evaluation metrics\n",
    "accuracy_knn = accuracy_score(y_test, y_pred)\n",
    "mcc_knn = matthews_corrcoef(y_test, y_pred_knn)\n",
    "roc_auc_knn = roc_auc_score(y_test, y_pred_knn)\n",
    "precision_knn = precision_score(y_test, y_pred_knn)\n",
    "recall_knn = recall_score(y_test, y_pred_knn)\n",
    "f1_knn = f1_score(y_test, y_pred_knn)\n",
    "\n",
    "# Print evaluation metrics\n",
    "print(\"Matthews Correlation Coefficient (MCC):\", mcc_knn)\n",
    "print(\"ROC-AUC Score:\", roc_auc_knn)\n",
    "print(\"Precision:\", precision_knn)\n",
    "print(\"Recall:\", recall_knn)\n",
    "print(\"F1 Score:\", f1_knn)\n",
    "\n",
    "# Generate classification report\n",
    "print(\"\\nClassification Report:\")\n",
    "print(classification_report(y_test, y_pred_knn))\n"
   ]
  },
  {
   "cell_type": "code",
   "execution_count": 12,
   "id": "a164b3c0",
   "metadata": {},
   "outputs": [
    {
     "name": "stdout",
     "output_type": "stream",
     "text": [
      "+---------------------+--------------------+---------------------+---------------------+\n",
      "|        Model        |      Accuracy      |         MCC         |      F1 Score       |\n",
      "+---------------------+--------------------+---------------------+---------------------+\n",
      "|         KNN         | 0.8719285714285714 | 0.19090151362431335 | 0.18194070080862534 |\n",
      "|         SVC         |       0.919        | 0.1765991195778155  | 0.06743421052631579 |\n",
      "|   Neural Network    |       0.9205       | 0.2317710716418805  | 0.15745647236941712 |\n",
      "|    Decision Tree    | 0.8719285714285714 | 0.13549860263707889 | 0.2048780487804878  |\n",
      "|  Gradient Boosting  | 0.8719285714285714 | 0.24135228500841588 | 0.1646525679758308  |\n",
      "| Logistic Regression | 0.8719285714285714 | 0.13549860263707889 | 0.2048780487804878  |\n",
      "|    Random Forest    | 0.9097091262357849 | 0.17058984982581046 | 0.1719077568134172  |\n",
      "+---------------------+--------------------+---------------------+---------------------+\n"
     ]
    }
   ],
   "source": [
    "from tabulate import tabulate\n",
    "\n",
    "# Define data\n",
    "data = [\n",
    "    ['KNN', accuracy_knn, mcc_knn, f1_knn],\n",
    "    ['SVC', accuracySVC, mccSVC, f1SVC],\n",
    "    ['Neural Network', accuracyNL, mccNL, f1NL],\n",
    "    ['Decision Tree', accuracyDT, mccDT, f1DT],\n",
    "    ['Gradient Boosting', accuracy_gb, mcc_gb, f1_gb],\n",
    "    ['Logistic Regression', accuracyLR, mccLR, f1LR],\n",
    "    ['Random Forest', accuracyRF, mccRF, f1RF]\n",
    "]\n",
    "\n",
    "# Create table\n",
    "table = tabulate(data, headers=['Model', 'Accuracy', 'MCC', 'F1 Score'], tablefmt='pretty')\n",
    "\n",
    "# Print table\n",
    "print(table)\n"
   ]
  },
  {
   "cell_type": "code",
   "execution_count": 13,
   "id": "da5b5d0c",
   "metadata": {},
   "outputs": [
    {
     "data": {
      "image/png": "[encoded data removed]",
      "text/plain": [
       "<Figure size 1000x600 with 1 Axes>"
      ]
     },
     "metadata": {},
     "output_type": "display_data"
    }
   ],
   "source": [
    "models = ['KNN', 'SVC', 'Neural Network', 'Decision Tree', 'Gradient Boosting', 'Logistic Regression',\n",
    "                      'Random Forest']\n",
    "# Define metrics\n",
    "accuracy = [accuracy_knn, accuracySVC, accuracyNL, accuracyDT, accuracy_gb, accuracyLR, accuracyRF]\n",
    "mcc = [mcc_knn, mccSVC, mccNL, mccDT, mcc_gb, mccLR, mccRF]\n",
    "f1_score = [f1_knn, f1SVC, f1NL, f1DT, f1_gb, f1LR, f1RF]\n",
    "\n",
    "x = np.arange(len(models))\n",
    "\n",
    "# Define bar width\n",
    "bar_width = 0.25\n",
    "\n",
    "# Plotting\n",
    "plt.figure(figsize=(10, 6))\n",
    "\n",
    "# Plotting accuracy\n",
    "plt.bar(x - bar_width, accuracy, width=bar_width, color='skyblue', label='Accuracy')\n",
    "\n",
    "# Plotting MCC\n",
    "plt.bar(x, mcc, width=bar_width, color='salmon', label='MCC')\n",
    "\n",
    "# Plotting F1-score\n",
    "plt.bar(x + bar_width, f1_score, width=bar_width, color='lightgreen', label='F1-score')\n",
    "\n",
    "# Add labels and title\n",
    "plt.xlabel('Model')\n",
    "plt.ylabel('Metric Value')\n",
    "plt.title('Comparison of Metrics Across Models')\n",
    "plt.xticks(x, models, rotation=45)\n",
    "plt.legend()\n",
    "\n",
    "plt.tight_layout()\n",
    "plt.show()"
   ]
  },
  {
   "cell_type": "code",
   "execution_count": null,
   "id": "b3e1ee97",
   "metadata": {},
   "outputs": [],
   "source": []
  },
  {
   "cell_type": "code",
   "execution_count": null,
   "id": "433f05fe",
   "metadata": {},
   "outputs": [],
   "source": []
  }
 ],
 "metadata": {
  "kernelspec": {
   "display_name": "Python 3 (ipykernel)",
   "language": "python",
   "name": "python3"
  },
  "language_info": {
   "codemirror_mode": {
    "name": "ipython",
    "version": 3
   },
   "file_extension": ".py",
   "mimetype": "text/x-python",
   "name": "python",
   "nbconvert_exporter": "python",
   "pygments_lexer": "ipython3",
   "version": "3.11.5"
  }
 },
 "nbformat": 4,
 "nbformat_minor": 5
}
