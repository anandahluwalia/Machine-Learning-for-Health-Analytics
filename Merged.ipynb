{
 "cells": [
  {
   "cell_type": "code",
   "execution_count": 1,
   "id": "b720c739",
   "metadata": {},
   "outputs": [],
   "source": [
    "import pandas as pd\n",
    "import glob\n",
    "\n",
    "# Get a list of all CSV files in the current directory\n",
    "file_list = glob.glob(\"*.csv\")\n",
    "# Initialize an empty list to store dataframes\n",
    "dfs = []\n",
    "\n",
    "# Read each CSV file and append it to the list of dataframes\n",
    "for file in file_list:\n",
    "    try:\n",
    "        df = pd.read_csv(file)\n",
    "        dfs.append(df)\n",
    "    except pd.errors.EmptyDataError:\n",
    "        print(f\"Empty or invalid CSV file: {file}\")\n",
    "\n",
    "# Check if any valid dataframes are found\n",
    "if len(dfs) > 0:\n",
    "    # Concatenate all dataframes in the list\n",
    "    merged_df = pd.concat(dfs, ignore_index=True)\n",
    "\n",
    "    # Write the merged dataframe to a new CSV file\n",
    "    merged_df.to_csv(\"merged.csv\", index=False)\n",
    "else:\n",
    "    print(\"No valid CSV files found.\")"
   ]
  },
  {
   "cell_type": "code",
   "execution_count": null,
   "id": "9b796067",
   "metadata": {},
   "outputs": [],
   "source": []
  },
  {
   "cell_type": "code",
   "execution_count": null,
   "id": "7406c43e",
   "metadata": {},
   "outputs": [],
   "source": []
  }
 ],
 "metadata": {
  "kernelspec": {
   "display_name": "Python 3 (ipykernel)",
   "language": "python",
   "name": "python3"
  },
  "language_info": {
   "codemirror_mode": {
    "name": "ipython",
    "version": 3
   },
   "file_extension": ".py",
   "mimetype": "text/x-python",
   "name": "python",
   "nbconvert_exporter": "python",
   "pygments_lexer": "ipython3",
   "version": "3.11.5"
  }
 },
 "nbformat": 4,
 "nbformat_minor": 5
}
